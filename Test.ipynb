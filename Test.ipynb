{
  "nbformat": 4,
  "nbformat_minor": 0,
  "metadata": {
    "colab": {
      "provenance": []
    },
    "kernelspec": {
      "name": "python3",
      "display_name": "Python 3"
    },
    "language_info": {
      "name": "python"
    }
  },
  "cells": [
    {
      "cell_type": "code",
      "execution_count": 1,
      "metadata": {
        "colab": {
          "base_uri": "https://localhost:8080/"
        },
        "id": "hyLek8eqmUvT",
        "outputId": "82696fb7-5123-4523-f30e-ee4ee265dd79"
      },
      "outputs": [
        {
          "output_type": "stream",
          "name": "stdout",
          "text": [
            "Reading package lists... Done\n",
            "Building dependency tree... Done\n",
            "Reading state information... Done\n",
            "git is already the newest version (1:2.34.1-1ubuntu1.10).\n",
            "0 upgraded, 0 newly installed, 0 to remove and 9 not upgraded.\n"
          ]
        }
      ],
      "source": [
        "! apt-get install git"
      ]
    },
    {
      "cell_type": "code",
      "source": [
        "# Cloning the repo\n",
        "!git clone https://github.com/lingineni555/Test.git"
      ],
      "metadata": {
        "colab": {
          "base_uri": "https://localhost:8080/"
        },
        "id": "IiHxspiVmVkf",
        "outputId": "d15806f7-446c-4075-c196-495ee2a3dc3d"
      },
      "execution_count": 2,
      "outputs": [
        {
          "output_type": "stream",
          "name": "stdout",
          "text": [
            "Cloning into 'Test'...\n",
            "warning: You appear to have cloned an empty repository.\n"
          ]
        }
      ]
    },
    {
      "cell_type": "code",
      "source": [
        "%cd Test"
      ],
      "metadata": {
        "colab": {
          "base_uri": "https://localhost:8080/"
        },
        "id": "D-42fREnnGUp",
        "outputId": "a4919768-97cc-4a1b-998f-f1b89918a789"
      },
      "execution_count": 3,
      "outputs": [
        {
          "output_type": "stream",
          "name": "stdout",
          "text": [
            "/content/Test\n"
          ]
        }
      ]
    },
    {
      "cell_type": "code",
      "source": [
        "# Create a new python file where you will save your code\n",
        "%%writefile my_list.py\n",
        "import yfinance as yf\n",
        "stock = yf.Ticker(\"AAPL\")\n",
        "historical_data = stock.history(period=\"15mo\")\n",
        "historical_data.head(10)"
      ],
      "metadata": {
        "colab": {
          "base_uri": "https://localhost:8080/"
        },
        "id": "c6o7G4oInX0x",
        "outputId": "0c96a04c-cceb-45ec-d75b-743f2f186914"
      },
      "execution_count": 4,
      "outputs": [
        {
          "output_type": "stream",
          "name": "stdout",
          "text": [
            "Writing my_list.py\n"
          ]
        }
      ]
    },
    {
      "cell_type": "code",
      "source": [
        "!cat my_list.py"
      ],
      "metadata": {
        "colab": {
          "base_uri": "https://localhost:8080/"
        },
        "id": "piunPH1vnkEs",
        "outputId": "79bb9fb1-6fc9-4ce8-b7fc-825872ba6499"
      },
      "execution_count": 6,
      "outputs": [
        {
          "output_type": "stream",
          "name": "stdout",
          "text": [
            "import yfinance as yf \n",
            "stock = yf.Ticker(\"AAPL\") \n",
            "historical_data = stock.history(period=\"15mo\") \n",
            "historical_data.head(10) \n"
          ]
        }
      ]
    },
    {
      "cell_type": "code",
      "source": [
        "!git status"
      ],
      "metadata": {
        "colab": {
          "base_uri": "https://localhost:8080/"
        },
        "id": "ufGWk5q8nqGP",
        "outputId": "a6f6f69a-da4b-40eb-c69c-342a814a428d"
      },
      "execution_count": 8,
      "outputs": [
        {
          "output_type": "stream",
          "name": "stdout",
          "text": [
            "On branch main\n",
            "\n",
            "No commits yet\n",
            "\n",
            "Untracked files:\n",
            "  (use \"git add <file>...\" to include in what will be committed)\n",
            "\t\u001b[31mmy_list.py\u001b[m\n",
            "\n",
            "nothing added to commit but untracked files present (use \"git add\" to track)\n"
          ]
        }
      ]
    },
    {
      "cell_type": "code",
      "source": [
        "# Stage the python file for commit\n",
        "!git add my_list.py"
      ],
      "metadata": {
        "id": "G72TnB5-oWHL"
      },
      "execution_count": 9,
      "outputs": []
    },
    {
      "cell_type": "code",
      "source": [
        "# To check the changes that are available in stagging area\n",
        "!git diff --staged"
      ],
      "metadata": {
        "colab": {
          "base_uri": "https://localhost:8080/"
        },
        "id": "9G_y-Gs_rsJA",
        "outputId": "6541e959-4d00-4b3f-eb1a-1c5b4c8800b2"
      },
      "execution_count": 10,
      "outputs": [
        {
          "output_type": "stream",
          "name": "stdout",
          "text": [
            "\u001b[1mdiff --git a/my_list.py b/my_list.py\u001b[m\n",
            "\u001b[1mnew file mode 100644\u001b[m\n",
            "\u001b[1mindex 0000000..0cd77ee\u001b[m\n",
            "\u001b[1m--- /dev/null\u001b[m\n",
            "\u001b[1m+++ b/my_list.py\u001b[m\n",
            "\u001b[36m@@ -0,0 +1,4 @@\u001b[m\n",
            "\u001b[32m+\u001b[m\u001b[32mimport yfinance as yf\u001b[m\u001b[41m \u001b[m\n",
            "\u001b[32m+\u001b[m\u001b[32mstock = yf.Ticker(\"AAPL\")\u001b[m\u001b[41m \u001b[m\n",
            "\u001b[32m+\u001b[m\u001b[32mhistorical_data = stock.history(period=\"15mo\")\u001b[m\u001b[41m \u001b[m\n",
            "\u001b[32m+\u001b[m\u001b[32mhistorical_data.head(10)\u001b[m\u001b[41m \u001b[m\n"
          ]
        }
      ]
    },
    {
      "cell_type": "code",
      "source": [
        "!git status"
      ],
      "metadata": {
        "colab": {
          "base_uri": "https://localhost:8080/"
        },
        "id": "2izao0sIruDY",
        "outputId": "bb4e25f2-87c7-4094-beb7-d2ae72c7fc6f"
      },
      "execution_count": 11,
      "outputs": [
        {
          "output_type": "stream",
          "name": "stdout",
          "text": [
            "On branch main\n",
            "\n",
            "No commits yet\n",
            "\n",
            "Changes to be committed:\n",
            "  (use \"git rm --cached <file>...\" to unstage)\n",
            "\t\u001b[32mnew file:   my_list.py\u001b[m\n",
            "\n"
          ]
        }
      ]
    },
    {
      "cell_type": "code",
      "source": [
        "# Configure your GitHub username and email\n",
        "!git config --global user.email \"your-email\"\n",
        "!git config --global user.name \"your-username\""
      ],
      "metadata": {
        "id": "0pAoIbkNynLC"
      },
      "execution_count": 13,
      "outputs": []
    },
    {
      "cell_type": "code",
      "source": [
        "# Commit the changes along with the description of changes you made\n",
        "!git commit -m \"Added the code that will pull the data of stock of last 15months from Yfinance API\""
      ],
      "metadata": {
        "colab": {
          "base_uri": "https://localhost:8080/"
        },
        "id": "7u1o4oZLyOU1",
        "outputId": "76ae615a-a257-4d9d-8c3e-cb787a1e91c2"
      },
      "execution_count": 14,
      "outputs": [
        {
          "output_type": "stream",
          "name": "stdout",
          "text": [
            "[main (root-commit) 96d65e1] Added the code that will pull the data of stock of last 15months from Yfinance API\n",
            " 1 file changed, 4 insertions(+)\n",
            " create mode 100644 my_list.py\n"
          ]
        }
      ]
    },
    {
      "cell_type": "code",
      "source": [
        "!git status"
      ],
      "metadata": {
        "colab": {
          "base_uri": "https://localhost:8080/"
        },
        "id": "64HwH7DUzjuf",
        "outputId": "113e6d62-492e-4011-be7d-01283ce7f154"
      },
      "execution_count": 15,
      "outputs": [
        {
          "output_type": "stream",
          "name": "stdout",
          "text": [
            "On branch main\n",
            "Your branch is based on 'origin/main', but the upstream is gone.\n",
            "  (use \"git branch --unset-upstream\" to fixup)\n",
            "\n",
            "nothing to commit, working tree clean\n"
          ]
        }
      ]
    },
    {
      "cell_type": "code",
      "source": [
        "# To check the checkpoints we committed\n",
        "!git log"
      ],
      "metadata": {
        "colab": {
          "base_uri": "https://localhost:8080/"
        },
        "id": "85KCA0LAzmm9",
        "outputId": "e0046c9a-0183-430b-fae3-b636c6d6da52"
      },
      "execution_count": 16,
      "outputs": [
        {
          "output_type": "stream",
          "name": "stdout",
          "text": [
            "\u001b[33mcommit 96d65e188703fbe11fb0bd1017ae9f462cbde03a\u001b[m\u001b[33m (\u001b[m\u001b[1;36mHEAD -> \u001b[m\u001b[1;32mmain\u001b[m\u001b[33m)\u001b[m\n",
            "Author: lingineni555 <lingineni555@gmail.com>\n",
            "Date:   Sat Nov 18 14:20:02 2023 +0000\n",
            "\n",
            "    Added the code that will pull the data of stock of last 15months from Yfinance API\n"
          ]
        }
      ]
    },
    {
      "cell_type": "code",
      "source": [
        "# set your remote URL and include the token\n",
        "!git remote set-url origin https://<token>@github.com/your-username/your-repository-name.git"
      ],
      "metadata": {
        "id": "2pmJRrog0HG0"
      },
      "execution_count": null,
      "outputs": []
    },
    {
      "cell_type": "code",
      "source": [
        "# Pushing changes to Github repository\n",
        "!git push"
      ],
      "metadata": {
        "colab": {
          "base_uri": "https://localhost:8080/"
        },
        "id": "Dckr6mye4PPB",
        "outputId": "641494c0-33e4-454f-9680-0e314b033700"
      },
      "execution_count": 18,
      "outputs": [
        {
          "output_type": "stream",
          "name": "stdout",
          "text": [
            "Enumerating objects: 3, done.\n",
            "Counting objects:  33% (1/3)\rCounting objects:  66% (2/3)\rCounting objects: 100% (3/3)\rCounting objects: 100% (3/3), done.\n",
            "Delta compression using up to 2 threads\n",
            "Compressing objects:  50% (1/2)\rCompressing objects: 100% (2/2)\rCompressing objects: 100% (2/2), done.\n",
            "Writing objects:  33% (1/3)\rWriting objects:  66% (2/3)\rWriting objects: 100% (3/3)\rWriting objects: 100% (3/3), 352 bytes | 352.00 KiB/s, done.\n",
            "Total 3 (delta 0), reused 0 (delta 0), pack-reused 0\n",
            "To https://github.com/lingineni555/Test.git\n",
            " * [new branch]      main -> main\n"
          ]
        }
      ]
    },
    {
      "cell_type": "code",
      "source": [
        "# Create a new python file where you will save your code\n",
        "%%writefile my_list.py\n",
        "import yfinance as yf\n",
        "stock = yf.Ticker(\"AAPL\")\n",
        "historical_data = stock.history(period=\"15mo\")\n",
        "#historical_data.head(10)\n",
        "current_value = historical_data.iloc[-1][\"Close\"]\n",
        "current_date = historical_data.iloc[-1][\"Date\"]"
      ],
      "metadata": {
        "colab": {
          "base_uri": "https://localhost:8080/"
        },
        "id": "m88D5jxF5K6f",
        "outputId": "1cccff4a-b0e9-4620-ac20-a30d8f1e13fe"
      },
      "execution_count": 19,
      "outputs": [
        {
          "output_type": "stream",
          "name": "stdout",
          "text": [
            "Overwriting my_list.py\n"
          ]
        }
      ]
    },
    {
      "cell_type": "code",
      "source": [
        "# the actual difference in code between your working tree and your staging area\n",
        "!git diff"
      ],
      "metadata": {
        "colab": {
          "base_uri": "https://localhost:8080/"
        },
        "id": "3QYGj6p05w_y",
        "outputId": "ae22bc22-748d-42b0-dc82-a74c0de8def7"
      },
      "execution_count": 21,
      "outputs": [
        {
          "output_type": "stream",
          "name": "stdout",
          "text": [
            "\u001b[1mdiff --git a/my_list.py b/my_list.py\u001b[m\n",
            "\u001b[1mindex 0cd77ee..50d62c1 100644\u001b[m\n",
            "\u001b[1m--- a/my_list.py\u001b[m\n",
            "\u001b[1m+++ b/my_list.py\u001b[m\n",
            "\u001b[36m@@ -1,4 +1,6 @@\u001b[m\n",
            "\u001b[31m-import yfinance as yf \u001b[m\n",
            "\u001b[31m-stock = yf.Ticker(\"AAPL\") \u001b[m\n",
            "\u001b[31m-historical_data = stock.history(period=\"15mo\") \u001b[m\n",
            "\u001b[31m-historical_data.head(10) \u001b[m\n",
            "\u001b[32m+\u001b[m\u001b[32mimport yfinance as yf\u001b[m\n",
            "\u001b[32m+\u001b[m\u001b[32mstock = yf.Ticker(\"AAPL\")\u001b[m\n",
            "\u001b[32m+\u001b[m\u001b[32mhistorical_data = stock.history(period=\"15mo\")\u001b[m\n",
            "\u001b[32m+\u001b[m\u001b[32m#historical_data.head(10)\u001b[m\n",
            "\u001b[32m+\u001b[m\u001b[32mcurrent_value = historical_data.iloc[-1][\"Close\"]\u001b[m\n",
            "\u001b[32m+\u001b[m\u001b[32mcurrent_date = historical_data.iloc[-1][\"Date\"]\u001b[m\n"
          ]
        }
      ]
    },
    {
      "cell_type": "code",
      "source": [
        "!git status"
      ],
      "metadata": {
        "colab": {
          "base_uri": "https://localhost:8080/"
        },
        "id": "Zd_GbnSR5zDu",
        "outputId": "9fcbd06b-3480-4b2f-91d4-58da12cada83"
      },
      "execution_count": 22,
      "outputs": [
        {
          "output_type": "stream",
          "name": "stdout",
          "text": [
            "On branch main\n",
            "Your branch is up to date with 'origin/main'.\n",
            "\n",
            "Changes not staged for commit:\n",
            "  (use \"git add <file>...\" to update what will be committed)\n",
            "  (use \"git restore <file>...\" to discard changes in working directory)\n",
            "\t\u001b[31mmodified:   my_list.py\u001b[m\n",
            "\n",
            "no changes added to commit (use \"git add\" and/or \"git commit -a\")\n"
          ]
        }
      ]
    },
    {
      "cell_type": "code",
      "source": [
        "!git add my_list.py"
      ],
      "metadata": {
        "id": "3LMAJlSC6HqL"
      },
      "execution_count": 23,
      "outputs": []
    },
    {
      "cell_type": "code",
      "source": [
        "# Changes that are in Staging Area\n",
        "!git diff --staged"
      ],
      "metadata": {
        "colab": {
          "base_uri": "https://localhost:8080/"
        },
        "id": "K1ZmyT8z6MeG",
        "outputId": "58a666f6-619f-458b-d437-73010493b192"
      },
      "execution_count": 24,
      "outputs": [
        {
          "output_type": "stream",
          "name": "stdout",
          "text": [
            "\u001b[1mdiff --git a/my_list.py b/my_list.py\u001b[m\n",
            "\u001b[1mindex 0cd77ee..50d62c1 100644\u001b[m\n",
            "\u001b[1m--- a/my_list.py\u001b[m\n",
            "\u001b[1m+++ b/my_list.py\u001b[m\n",
            "\u001b[36m@@ -1,4 +1,6 @@\u001b[m\n",
            "\u001b[31m-import yfinance as yf \u001b[m\n",
            "\u001b[31m-stock = yf.Ticker(\"AAPL\") \u001b[m\n",
            "\u001b[31m-historical_data = stock.history(period=\"15mo\") \u001b[m\n",
            "\u001b[31m-historical_data.head(10) \u001b[m\n",
            "\u001b[32m+\u001b[m\u001b[32mimport yfinance as yf\u001b[m\n",
            "\u001b[32m+\u001b[m\u001b[32mstock = yf.Ticker(\"AAPL\")\u001b[m\n",
            "\u001b[32m+\u001b[m\u001b[32mhistorical_data = stock.history(period=\"15mo\")\u001b[m\n",
            "\u001b[32m+\u001b[m\u001b[32m#historical_data.head(10)\u001b[m\n",
            "\u001b[32m+\u001b[m\u001b[32mcurrent_value = historical_data.iloc[-1][\"Close\"]\u001b[m\n",
            "\u001b[32m+\u001b[m\u001b[32mcurrent_date = historical_data.iloc[-1][\"Date\"]\u001b[m\n"
          ]
        }
      ]
    },
    {
      "cell_type": "code",
      "source": [
        "!git status"
      ],
      "metadata": {
        "colab": {
          "base_uri": "https://localhost:8080/"
        },
        "id": "G3s_zBnr6Q4p",
        "outputId": "94e50bf2-d400-4c92-8801-b3646d8100bc"
      },
      "execution_count": 26,
      "outputs": [
        {
          "output_type": "stream",
          "name": "stdout",
          "text": [
            "On branch main\n",
            "Your branch is up to date with 'origin/main'.\n",
            "\n",
            "Changes to be committed:\n",
            "  (use \"git restore --staged <file>...\" to unstage)\n",
            "\t\u001b[32mmodified:   my_list.py\u001b[m\n",
            "\n"
          ]
        }
      ]
    },
    {
      "cell_type": "code",
      "source": [
        "!git commit -m \"Added code to get the most recent stock value of apple\""
      ],
      "metadata": {
        "colab": {
          "base_uri": "https://localhost:8080/"
        },
        "id": "EnvX93hr6cD6",
        "outputId": "4e95cfbf-d7b7-46b2-fd65-9d7574ba8df4"
      },
      "execution_count": 27,
      "outputs": [
        {
          "output_type": "stream",
          "name": "stdout",
          "text": [
            "[main 4834a3e] Added code to get the most recent stock value of apple\n",
            " 1 file changed, 6 insertions(+), 4 deletions(-)\n"
          ]
        }
      ]
    },
    {
      "cell_type": "code",
      "source": [
        "!git status --long"
      ],
      "metadata": {
        "colab": {
          "base_uri": "https://localhost:8080/"
        },
        "id": "XH10wRSt6vdM",
        "outputId": "a6200eb8-70e2-4e72-91c9-56b5850a369c"
      },
      "execution_count": 29,
      "outputs": [
        {
          "output_type": "stream",
          "name": "stdout",
          "text": [
            "On branch main\n",
            "Your branch is ahead of 'origin/main' by 1 commit.\n",
            "  (use \"git push\" to publish your local commits)\n",
            "\n",
            "nothing to commit, working tree clean\n"
          ]
        }
      ]
    },
    {
      "cell_type": "code",
      "source": [
        "# Create a new python file where you will save your code\n",
        "%%writefile my_list.py\n",
        "import yfinance as yf\n",
        "stock = yf.Ticker(\"AAPL\")\n",
        "historical_data = stock.history(period=\"15mo\")\n",
        "#historical_data.head(10)\n",
        "current_value = historical_data.iloc[-1][\"Close\"]\n",
        "current_date = historical_data.iloc[-1][\"Date\"]\n",
        "six_months_back_close = historical_data.iloc[0][\"Close\"]\n",
        "six_months_back_date = historical_data.iloc[0][\"Date\"]\n",
        "one_month_back_close = historical_data.iloc[-20][\"Close\"]  # Approx. 1 month data\n",
        "one_month_back_date = historical_data.iloc[-20][\"Date\"]"
      ],
      "metadata": {
        "colab": {
          "base_uri": "https://localhost:8080/"
        },
        "id": "WSnsFpkP6xlp",
        "outputId": "605cc3aa-aaf4-4b44-9db1-a64cce53b550"
      },
      "execution_count": 30,
      "outputs": [
        {
          "output_type": "stream",
          "name": "stdout",
          "text": [
            "Overwriting my_list.py\n"
          ]
        }
      ]
    },
    {
      "cell_type": "code",
      "source": [
        "!git diff"
      ],
      "metadata": {
        "colab": {
          "base_uri": "https://localhost:8080/"
        },
        "id": "uySd0wKX7fdD",
        "outputId": "1d861b94-829a-45b2-afe2-8296db0fced9"
      },
      "execution_count": 33,
      "outputs": [
        {
          "output_type": "stream",
          "name": "stdout",
          "text": [
            "\u001b[1mdiff --git a/my_list.py b/my_list.py\u001b[m\n",
            "\u001b[1mindex 50d62c1..223095b 100644\u001b[m\n",
            "\u001b[1m--- a/my_list.py\u001b[m\n",
            "\u001b[1m+++ b/my_list.py\u001b[m\n",
            "\u001b[36m@@ -4,3 +4,7 @@\u001b[m \u001b[mhistorical_data = stock.history(period=\"15mo\")\u001b[m\n",
            " #historical_data.head(10)\u001b[m\n",
            " current_value = historical_data.iloc[-1][\"Close\"]\u001b[m\n",
            " current_date = historical_data.iloc[-1][\"Date\"]\u001b[m\n",
            "\u001b[32m+\u001b[m\u001b[32msix_months_back_close = historical_data.iloc[0][\"Close\"]\u001b[m\n",
            "\u001b[32m+\u001b[m\u001b[32msix_months_back_date = historical_data.iloc[0][\"Date\"]\u001b[m\n",
            "\u001b[32m+\u001b[m\u001b[32mone_month_back_close = historical_data.iloc[-20][\"Close\"]  # Approx. 1 month data\u001b[m\n",
            "\u001b[32m+\u001b[m\u001b[32mone_month_back_date = historical_data.iloc[-20][\"Date\"]\u001b[m\n"
          ]
        }
      ]
    },
    {
      "cell_type": "code",
      "source": [
        "!git add my_list.py"
      ],
      "metadata": {
        "id": "IuGzR--V7Y4k"
      },
      "execution_count": 34,
      "outputs": []
    },
    {
      "cell_type": "code",
      "source": [
        "# The output is blank as there is no difference between your code and code in stagging area\n",
        "!git diff"
      ],
      "metadata": {
        "id": "1z9GKl2Q7sqL"
      },
      "execution_count": 35,
      "outputs": []
    },
    {
      "cell_type": "code",
      "source": [
        "# Now you can see the new changes that are added in green color and previous available code in blue\n",
        "!git diff --staged"
      ],
      "metadata": {
        "colab": {
          "base_uri": "https://localhost:8080/"
        },
        "id": "3BJPUj-u7t4N",
        "outputId": "66bcca26-02bc-4a8e-dbe3-26bc036172dd"
      },
      "execution_count": 36,
      "outputs": [
        {
          "output_type": "stream",
          "name": "stdout",
          "text": [
            "\u001b[1mdiff --git a/my_list.py b/my_list.py\u001b[m\n",
            "\u001b[1mindex 50d62c1..223095b 100644\u001b[m\n",
            "\u001b[1m--- a/my_list.py\u001b[m\n",
            "\u001b[1m+++ b/my_list.py\u001b[m\n",
            "\u001b[36m@@ -4,3 +4,7 @@\u001b[m \u001b[mhistorical_data = stock.history(period=\"15mo\")\u001b[m\n",
            " #historical_data.head(10)\u001b[m\n",
            " current_value = historical_data.iloc[-1][\"Close\"]\u001b[m\n",
            " current_date = historical_data.iloc[-1][\"Date\"]\u001b[m\n",
            "\u001b[32m+\u001b[m\u001b[32msix_months_back_close = historical_data.iloc[0][\"Close\"]\u001b[m\n",
            "\u001b[32m+\u001b[m\u001b[32msix_months_back_date = historical_data.iloc[0][\"Date\"]\u001b[m\n",
            "\u001b[32m+\u001b[m\u001b[32mone_month_back_close = historical_data.iloc[-20][\"Close\"]  # Approx. 1 month data\u001b[m\n",
            "\u001b[32m+\u001b[m\u001b[32mone_month_back_date = historical_data.iloc[-20][\"Date\"]\u001b[m\n"
          ]
        }
      ]
    },
    {
      "cell_type": "code",
      "source": [
        "!git commit -m \"Added code to get six months back data and one month back data\""
      ],
      "metadata": {
        "colab": {
          "base_uri": "https://localhost:8080/"
        },
        "id": "9P8Mvdy_72LY",
        "outputId": "3cfabe9f-4dab-47c5-9ec8-acd812632c44"
      },
      "execution_count": 37,
      "outputs": [
        {
          "output_type": "stream",
          "name": "stdout",
          "text": [
            "[main dd0a435] Added code to get six months back data and one month back data\n",
            " 1 file changed, 4 insertions(+)\n"
          ]
        }
      ]
    },
    {
      "cell_type": "code",
      "source": [
        "!git log"
      ],
      "metadata": {
        "colab": {
          "base_uri": "https://localhost:8080/"
        },
        "id": "p2sJoPMX8LfA",
        "outputId": "29b9e0c6-a07c-42c1-ddd9-f7954b2198e7"
      },
      "execution_count": 38,
      "outputs": [
        {
          "output_type": "stream",
          "name": "stdout",
          "text": [
            "\u001b[33mcommit dd0a43582b7ab6c8fec3346ea2e9d16219c8fdb5\u001b[m\u001b[33m (\u001b[m\u001b[1;36mHEAD -> \u001b[m\u001b[1;32mmain\u001b[m\u001b[33m)\u001b[m\n",
            "Author: lingineni555 <lingineni555@gmail.com>\n",
            "Date:   Sat Nov 18 14:58:28 2023 +0000\n",
            "\n",
            "    Added code to get six months back data and one month back data\n",
            "\n",
            "\u001b[33mcommit 4834a3e9a1bbeb45f5af4717fd740289a7d860c6\u001b[m\n",
            "Author: lingineni555 <lingineni555@gmail.com>\n",
            "Date:   Sat Nov 18 14:52:12 2023 +0000\n",
            "\n",
            "    Added code to get the most recent stock value of apple\n",
            "\n",
            "\u001b[33mcommit 96d65e188703fbe11fb0bd1017ae9f462cbde03a\u001b[m\u001b[33m (\u001b[m\u001b[1;31morigin/main\u001b[m\u001b[33m)\u001b[m\n",
            "Author: lingineni555 <lingineni555@gmail.com>\n",
            "Date:   Sat Nov 18 14:20:02 2023 +0000\n",
            "\n",
            "    Added the code that will pull the data of stock of last 15months from Yfinance API\n"
          ]
        }
      ]
    },
    {
      "cell_type": "code",
      "source": [
        "!git push"
      ],
      "metadata": {
        "colab": {
          "base_uri": "https://localhost:8080/"
        },
        "id": "v_xNBiSt8OAl",
        "outputId": "d0037925-8125-4801-996a-75f04cf007e8"
      },
      "execution_count": 39,
      "outputs": [
        {
          "output_type": "stream",
          "name": "stdout",
          "text": [
            "Enumerating objects: 8, done.\n",
            "Counting objects:  12% (1/8)\rCounting objects:  25% (2/8)\rCounting objects:  37% (3/8)\rCounting objects:  50% (4/8)\rCounting objects:  62% (5/8)\rCounting objects:  75% (6/8)\rCounting objects:  87% (7/8)\rCounting objects: 100% (8/8)\rCounting objects: 100% (8/8), done.\n",
            "Delta compression using up to 2 threads\n",
            "Compressing objects:  25% (1/4)\rCompressing objects:  50% (2/4)\rCompressing objects:  75% (3/4)\rCompressing objects: 100% (4/4)\rCompressing objects: 100% (4/4), done.\n",
            "Writing objects:  16% (1/6)\rWriting objects:  33% (2/6)\rWriting objects:  50% (3/6)\rWriting objects:  66% (4/6)\rWriting objects:  83% (5/6)\rWriting objects: 100% (6/6)\rWriting objects: 100% (6/6), 710 bytes | 710.00 KiB/s, done.\n",
            "Total 6 (delta 1), reused 0 (delta 0), pack-reused 0\n",
            "remote: Resolving deltas: 100% (1/1), done.\u001b[K\n",
            "To https://github.com/lingineni555/Test.git\n",
            "   96d65e1..dd0a435  main -> main\n"
          ]
        }
      ]
    },
    {
      "cell_type": "code",
      "source": [],
      "metadata": {
        "id": "A_Ha5zh-AEUI"
      },
      "execution_count": null,
      "outputs": []
    }
  ]
}